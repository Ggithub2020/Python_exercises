{
 "cells": [
  {
   "cell_type": "markdown",
   "metadata": {},
   "source": [
    "# Notebook Workflow"
   ]
  },
  {
   "cell_type": "code",
   "execution_count": null,
   "metadata": {},
   "outputs": [],
   "source": []
  },
  {
   "cell_type": "markdown",
   "metadata": {},
   "source": [
    "# Executing Python code"
   ]
  },
  {
   "cell_type": "markdown",
   "metadata": {},
   "source": []
  },
  {
   "cell_type": "markdown",
   "metadata": {},
   "source": [
    "plotting a function by using a python library called sympy"
   ]
  },
  {
   "cell_type": "code",
   "execution_count": 8,
   "metadata": {},
   "outputs": [
    {
     "name": "stdout",
     "output_type": "stream",
     "text": [
      "Requirement already satisfied: sympy in c:\\users\\girum\\appdata\\local\\programs\\python\\python312\\lib\\site-packages (1.13.3)\n",
      "Requirement already satisfied: mpmath<1.4,>=1.1.0 in c:\\users\\girum\\appdata\\local\\programs\\python\\python312\\lib\\site-packages (from sympy) (1.3.0)\n",
      "Note: you may need to restart the kernel to use updated packages.\n",
      "    100 |\\                                                     /\n",
      "        | .                                                   . \n",
      "        |                                                       \n",
      "        |  .                                                 .  \n",
      "        |   \\                                               /   \n",
      "        |    .                                             .    \n",
      "        |                                                       \n",
      "        |     .                                           .     \n",
      "        |      \\                                         /      \n",
      "        |       \\                                       /       \n",
      "     50 |--------\\-------------------------------------/--------\n",
      "        |         \\                                   /         \n",
      "        |          \\                                 /          \n",
      "        |           \\                               /           \n",
      "        |            \\                             /            \n",
      "        |             ..                         ..             \n",
      "        |               \\                       /               \n",
      "        |                ..                   ..                \n",
      "        |                  ..               ..                  \n",
      "        |                    ...         ...                    \n",
      "      0 |_______________________________________________________\n",
      "         -10                        0                          10\n"
     ]
    },
    {
     "data": {
      "text/plain": [
       "<sympy.plotting.backends.textbackend.text.TextBackend at 0x251cce198e0>"
      ]
     },
     "execution_count": 8,
     "metadata": {},
     "output_type": "execute_result"
    }
   ],
   "source": [
    "# Ensure sympy is installed\n",
    "%pip install sympy\n",
    "\n",
    "from sympy import Symbol, plot\n",
    "\n",
    "x = Symbol('x')\n",
    "f = x**2\n",
    "\n",
    "plot(f)"
   ]
  },
  {
   "cell_type": "code",
   "execution_count": 2,
   "metadata": {},
   "outputs": [
    {
     "name": "stdout",
     "output_type": "stream",
     "text": [
      "    100 |\\                                                     /\n",
      "        | .                                                   . \n",
      "        |                                                       \n",
      "        |  .                                                 .  \n",
      "        |   \\                                               /   \n",
      "        |    .                                             .    \n",
      "        |                                                       \n",
      "        |     .                                           .     \n",
      "        |      \\                                         /      \n",
      "        |       \\                                       /       \n",
      "     50 |--------\\-------------------------------------/--------\n",
      "        |         \\                                   /         \n",
      "        |          \\                                 /          \n",
      "        |           \\                               /           \n",
      "        |            \\                             /            \n",
      "        |             ..                         ..             \n",
      "        |               \\                       /               \n",
      "        |                ..                   ..                \n",
      "        |                  ..               ..                  \n",
      "        |                    ...         ...                    \n",
      "      0 |_______________________________________________________\n",
      "         -10                        0                          10\n"
     ]
    },
    {
     "data": {
      "text/plain": [
       "<sympy.plotting.backends.textbackend.text.TextBackend at 0x2122d68d1c0>"
      ]
     },
     "execution_count": 2,
     "metadata": {},
     "output_type": "execute_result"
    }
   ],
   "source": [
    "from sympy import *\n",
    "x = symbols('x')\n",
    "f = x**2\n",
    "\n",
    "plot(f)"
   ]
  },
  {
   "cell_type": "code",
   "execution_count": 5,
   "metadata": {},
   "outputs": [
    {
     "name": "stdout",
     "output_type": "stream",
     "text": [
      "  1e+10 |.                                                     .\n",
      "        |                                                       \n",
      "        |                                                       \n",
      "        |                                                       \n",
      "        |                                                       \n",
      "        |                                                       \n",
      "        | .                                                   . \n",
      "        |                                                       \n",
      "        |                                                       \n",
      "        |                                                       \n",
      "  5e+09 |-------------------------------------------------------\n",
      "        |  .                                                 .  \n",
      "        |                                                       \n",
      "        |                                                       \n",
      "        |   .                                               .   \n",
      "        |                                                       \n",
      "        |    .                                             .    \n",
      "        |     \\                                           /     \n",
      "        |      \\                                         /      \n",
      "        |       ..                                     ..       \n",
      "      0 |_______________________________________________________\n",
      "         -10                        0                          10\n"
     ]
    },
    {
     "data": {
      "text/plain": [
       "<sympy.plotting.backends.textbackend.text.TextBackend at 0x2122dac1760>"
      ]
     },
     "execution_count": 5,
     "metadata": {},
     "output_type": "execute_result"
    }
   ],
   "source": [
    "from sympy import symbols, plot\n",
    "\n",
    "# Define the variable and the function\n",
    "x = symbols('x')\n",
    "f = x**10\n",
    "\n",
    "# Plot the function\n",
    "plot(f, title='Parabola: y = x^20', xlabel='x', ylabel='y')"
   ]
  },
  {
   "cell_type": "markdown",
   "metadata": {},
   "source": []
  },
  {
   "cell_type": "markdown",
   "metadata": {},
   "source": [
    "# Show a table using pandas"
   ]
  },
  {
   "cell_type": "code",
   "execution_count": 15,
   "metadata": {},
   "outputs": [
    {
     "name": "stdout",
     "output_type": "stream",
     "text": [
      "Collecting pandas\n",
      "  Downloading pandas-2.2.3-cp312-cp312-win_amd64.whl.metadata (19 kB)\n",
      "Collecting numpy>=1.26.0 (from pandas)\n",
      "  Downloading numpy-2.2.1-cp312-cp312-win_amd64.whl.metadata (60 kB)\n",
      "Requirement already satisfied: python-dateutil>=2.8.2 in c:\\users\\girum\\appdata\\roaming\\python\\python312\\site-packages (from pandas) (2.9.0.post0)\n",
      "Collecting pytz>=2020.1 (from pandas)\n",
      "  Downloading pytz-2024.2-py2.py3-none-any.whl.metadata (22 kB)\n",
      "Collecting tzdata>=2022.7 (from pandas)\n",
      "  Downloading tzdata-2024.2-py2.py3-none-any.whl.metadata (1.4 kB)\n",
      "Requirement already satisfied: six>=1.5 in c:\\users\\girum\\appdata\\local\\programs\\python\\python312\\lib\\site-packages (from python-dateutil>=2.8.2->pandas) (1.16.0)\n",
      "Downloading pandas-2.2.3-cp312-cp312-win_amd64.whl (11.5 MB)\n",
      "   ---------------------------------------- 0.0/11.5 MB ? eta -:--:--\n",
      "   - -------------------------------------- 0.5/11.5 MB 3.4 MB/s eta 0:00:04\n",
      "   ---- ----------------------------------- 1.3/11.5 MB 3.2 MB/s eta 0:00:04\n",
      "   ------ --------------------------------- 1.8/11.5 MB 3.2 MB/s eta 0:00:03\n",
      "   --------- ------------------------------ 2.6/11.5 MB 3.1 MB/s eta 0:00:03\n",
      "   ----------- ---------------------------- 3.4/11.5 MB 3.1 MB/s eta 0:00:03\n",
      "   ------------- -------------------------- 3.9/11.5 MB 3.2 MB/s eta 0:00:03\n",
      "   ---------------- ----------------------- 4.7/11.5 MB 3.2 MB/s eta 0:00:03\n",
      "   ------------------ --------------------- 5.2/11.5 MB 3.2 MB/s eta 0:00:02\n",
      "   -------------------- ------------------- 6.0/11.5 MB 3.2 MB/s eta 0:00:02\n",
      "   ----------------------- ---------------- 6.8/11.5 MB 3.2 MB/s eta 0:00:02\n",
      "   ------------------------- -------------- 7.3/11.5 MB 3.2 MB/s eta 0:00:02\n",
      "   ---------------------------- ----------- 8.1/11.5 MB 3.1 MB/s eta 0:00:02\n",
      "   ------------------------------ --------- 8.7/11.5 MB 3.2 MB/s eta 0:00:01\n",
      "   -------------------------------- ------- 9.4/11.5 MB 3.2 MB/s eta 0:00:01\n",
      "   ---------------------------------- ----- 10.0/11.5 MB 3.2 MB/s eta 0:00:01\n",
      "   ------------------------------------ --- 10.5/11.5 MB 3.1 MB/s eta 0:00:01\n",
      "   ---------------------------------------  11.3/11.5 MB 3.1 MB/s eta 0:00:01\n",
      "   ---------------------------------------- 11.5/11.5 MB 3.0 MB/s eta 0:00:00\n",
      "Downloading numpy-2.2.1-cp312-cp312-win_amd64.whl (12.6 MB)\n",
      "   ---------------------------------------- 0.0/12.6 MB ? eta -:--:--\n",
      "   - -------------------------------------- 0.5/12.6 MB 3.4 MB/s eta 0:00:04\n",
      "   --- ------------------------------------ 1.0/12.6 MB 3.1 MB/s eta 0:00:04\n",
      "   ----- ---------------------------------- 1.8/12.6 MB 3.1 MB/s eta 0:00:04\n",
      "   ------- -------------------------------- 2.4/12.6 MB 3.1 MB/s eta 0:00:04\n",
      "   --------- ------------------------------ 3.1/12.6 MB 3.1 MB/s eta 0:00:04\n",
      "   ------------ --------------------------- 3.9/12.6 MB 3.1 MB/s eta 0:00:03\n",
      "   -------------- ------------------------- 4.5/12.6 MB 3.1 MB/s eta 0:00:03\n",
      "   --------------- ------------------------ 5.0/12.6 MB 3.1 MB/s eta 0:00:03\n",
      "   ------------------ --------------------- 5.8/12.6 MB 3.1 MB/s eta 0:00:03\n",
      "   ------------------- -------------------- 6.3/12.6 MB 3.1 MB/s eta 0:00:03\n",
      "   ---------------------- ----------------- 7.1/12.6 MB 3.1 MB/s eta 0:00:02\n",
      "   ------------------------ --------------- 7.9/12.6 MB 3.1 MB/s eta 0:00:02\n",
      "   -------------------------- ------------- 8.4/12.6 MB 3.1 MB/s eta 0:00:02\n",
      "   ----------------------------- ---------- 9.2/12.6 MB 3.1 MB/s eta 0:00:02\n",
      "   ------------------------------ --------- 9.7/12.6 MB 3.1 MB/s eta 0:00:01\n",
      "   --------------------------------- ------ 10.5/12.6 MB 3.1 MB/s eta 0:00:01\n",
      "   ----------------------------------- ---- 11.3/12.6 MB 3.1 MB/s eta 0:00:01\n",
      "   ------------------------------------- -- 11.8/12.6 MB 3.1 MB/s eta 0:00:01\n",
      "   ---------------------------------------  12.3/12.6 MB 3.1 MB/s eta 0:00:01\n",
      "   ---------------------------------------- 12.6/12.6 MB 3.1 MB/s eta 0:00:00\n",
      "Downloading pytz-2024.2-py2.py3-none-any.whl (508 kB)\n",
      "Downloading tzdata-2024.2-py2.py3-none-any.whl (346 kB)\n",
      "Installing collected packages: pytz, tzdata, numpy, pandas\n",
      "Successfully installed numpy-2.2.1 pandas-2.2.3 pytz-2024.2 tzdata-2024.2\n",
      "Note: you may need to restart the kernel to use updated packages.\n"
     ]
    }
   ],
   "source": [
    "pip install pandas"
   ]
  },
  {
   "cell_type": "markdown",
   "metadata": {},
   "source": []
  },
  {
   "cell_type": "code",
   "execution_count": 5,
   "metadata": {},
   "outputs": [
    {
     "ename": "ModuleNotFoundError",
     "evalue": "No module named 'pandas'",
     "output_type": "error",
     "traceback": [
      "\u001b[1;31m---------------------------------------------------------------------------\u001b[0m",
      "\u001b[1;31mModuleNotFoundError\u001b[0m                       Traceback (most recent call last)",
      "Cell \u001b[1;32mIn[5], line 1\u001b[0m\n\u001b[1;32m----> 1\u001b[0m \u001b[38;5;28;01mimport\u001b[39;00m \u001b[38;5;21;01mpandas\u001b[39;00m \u001b[38;5;28;01mas\u001b[39;00m \u001b[38;5;21;01mpd\u001b[39;00m\n\u001b[0;32m      2\u001b[0m \u001b[38;5;28;01mimport\u001b[39;00m \u001b[38;5;21;01mrequests\u001b[39;00m\n\u001b[0;32m      3\u001b[0m \u001b[38;5;66;03m# Example usage of pandas to read a CSV file from a URL\u001b[39;00m\n",
      "\u001b[1;31mModuleNotFoundError\u001b[0m: No module named 'pandas'"
     ]
    }
   ],
   "source": [
    "import pandas as pd\n",
    "import requests\n",
    "# Example usage of pandas to read a CSV file from a URL\n",
    "url = 'https://raw.githubusercontent.com/thomasnield/machine-learning-demo-data/master/unprocessed/airline_delay_causes.csv'\n",
    "df = pd.read_csv(url)\n",
    "print(df.head())"
   ]
  },
  {
   "cell_type": "code",
   "execution_count": 2,
   "metadata": {},
   "outputs": [
    {
     "ename": "ModuleNotFoundError",
     "evalue": "No module named 'panda'",
     "output_type": "error",
     "traceback": [
      "\u001b[1;31m---------------------------------------------------------------------------\u001b[0m",
      "\u001b[1;31mModuleNotFoundError\u001b[0m                       Traceback (most recent call last)",
      "Cell \u001b[1;32mIn[2], line 1\u001b[0m\n\u001b[1;32m----> 1\u001b[0m \u001b[38;5;28;01mimport\u001b[39;00m \u001b[38;5;21;01mpanda\u001b[39;00m \u001b[38;5;28;01mas\u001b[39;00m \u001b[38;5;21;01mpd\u001b[39;00m\n\u001b[0;32m      2\u001b[0m pd\u001b[38;5;241m.\u001b[39mread_csv(\u001b[38;5;124m'\u001b[39m\u001b[38;5;124mhttps://raw.githubusercontent.com/thomasnield/machine-learning-demo-data/master/unprocessed/airline_delay_causes.csv\u001b[39m\u001b[38;5;124m'\u001b[39m)\n",
      "\u001b[1;31mModuleNotFoundError\u001b[0m: No module named 'panda'"
     ]
    }
   ],
   "source": [
    "import panda as pd\n",
    "pd.read_csv('https://raw.githubusercontent.com/thomasnield/machine-learning-demo-data/master/unprocessed/airline_delay_causes.csv')"
   ]
  },
  {
   "cell_type": "code",
   "execution_count": 3,
   "metadata": {},
   "outputs": [
    {
     "ename": "ModuleNotFoundError",
     "evalue": "No module named 'pandas'",
     "output_type": "error",
     "traceback": [
      "\u001b[1;31m---------------------------------------------------------------------------\u001b[0m",
      "\u001b[1;31mModuleNotFoundError\u001b[0m                       Traceback (most recent call last)",
      "Cell \u001b[1;32mIn[3], line 1\u001b[0m\n\u001b[1;32m----> 1\u001b[0m \u001b[38;5;28;01mimport\u001b[39;00m \u001b[38;5;21;01mpandas\u001b[39;00m \u001b[38;5;28;01mas\u001b[39;00m \u001b[38;5;21;01mpd\u001b[39;00m\n\u001b[0;32m      2\u001b[0m pd\u001b[38;5;241m.\u001b[39mread_csv(\u001b[38;5;124m'\u001b[39m\u001b[38;5;124mhttps://raw.githubusercontent.com/thomasnield/machine-learning-demo-data/master/unprocessed/airline_delay_causes.csv\u001b[39m\u001b[38;5;124m'\u001b[39m)\n",
      "\u001b[1;31mModuleNotFoundError\u001b[0m: No module named 'pandas'"
     ]
    }
   ],
   "source": [
    "import pandas as pd\n",
    "pd.read_csv('https://raw.githubusercontent.com/thomasnield/machine-learning-demo-data/master/unprocessed/airline_delay_causes.csv')"
   ]
  },
  {
   "cell_type": "code",
   "execution_count": null,
   "metadata": {},
   "outputs": [],
   "source": []
  }
 ],
 "metadata": {
  "kernelspec": {
   "display_name": "Python 3",
   "language": "python",
   "name": "python3"
  },
  "language_info": {
   "codemirror_mode": {
    "name": "ipython",
    "version": 3
   },
   "file_extension": ".py",
   "mimetype": "text/x-python",
   "name": "python",
   "nbconvert_exporter": "python",
   "pygments_lexer": "ipython3",
   "version": "3.13.1"
  }
 },
 "nbformat": 4,
 "nbformat_minor": 2
}
