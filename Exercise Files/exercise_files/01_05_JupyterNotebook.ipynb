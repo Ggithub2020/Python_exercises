{
 "cells": [
  {
   "cell_type": "markdown",
   "id": "62ce1d82",
   "metadata": {},
   "source": [
    "# Title\n",
    "## Smaller Title"
   ]
  },
  {
   "cell_type": "markdown",
   "id": "12d15452",
   "metadata": {},
   "source": [
    "\\begin{equation}\n",
    "e^x=\\sum_{i=0}^\\infty \\frac{1}{i!}x^i\n",
    "\\end{equation}"
   ]
  },
  {
   "cell_type": "markdown",
   "id": "9b3993ee-1821-4664-b1e6-8aca3e7f2416",
   "metadata": {},
   "source": [
    "# Title\n",
    "## title\n",
    "### title"
   ]
  },
  {
   "cell_type": "code",
   "execution_count": 8,
   "id": "ab0b33ee",
   "metadata": {},
   "outputs": [
    {
     "name": "stdout",
     "output_type": "stream",
     "text": [
      "Doing some data science!\n"
     ]
    }
   ],
   "source": [
    "print('Doing some data science!')"
   ]
  },
  {
   "cell_type": "code",
   "execution_count": 9,
   "id": "ed90dcbd-0108-4f95-8b65-25f4a273557c",
   "metadata": {},
   "outputs": [
    {
     "name": "stdout",
     "output_type": "stream",
     "text": [
      "Doing another thing\n"
     ]
    }
   ],
   "source": [
    "print('Doing another thing')"
   ]
  },
  {
   "cell_type": "markdown",
   "id": "287db11d-409b-488e-a59a-a80503d9c48d",
   "metadata": {},
   "source": [
    "# Hello This is so Amazing"
   ]
  },
  {
   "cell_type": "code",
   "execution_count": null,
   "id": "359b9685-ca80-410d-b449-cf3545e7c835",
   "metadata": {},
   "outputs": [],
   "source": []
  },
  {
   "cell_type": "code",
   "execution_count": null,
   "id": "be6f54d0-47a8-41f1-b512-ba59488803d1",
   "metadata": {},
   "outputs": [],
   "source": []
  }
 ],
 "metadata": {
  "kernelspec": {
   "display_name": "Python 3",
   "language": "python",
   "name": "python3"
  },
  "language_info": {
   "codemirror_mode": {
    "name": "ipython",
    "version": 3
   },
   "file_extension": ".py",
   "mimetype": "text/x-python",
   "name": "python",
   "nbconvert_exporter": "python",
   "pygments_lexer": "ipython3",
   "version": "3.12.6"
  }
 },
 "nbformat": 4,
 "nbformat_minor": 5
}
